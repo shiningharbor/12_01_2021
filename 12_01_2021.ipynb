{
  "nbformat": 4,
  "nbformat_minor": 0,
  "metadata": {
    "colab": {
      "name": "12_01_2021.ipynb",
      "provenance": [],
      "authorship_tag": "ABX9TyOSzTmzVAn1aVHQAFC4ho01",
      "include_colab_link": true
    },
    "kernelspec": {
      "name": "python3",
      "display_name": "Python 3"
    }
  },
  "cells": [
    {
      "cell_type": "markdown",
      "metadata": {
        "id": "view-in-github",
        "colab_type": "text"
      },
      "source": [
        "<a href=\"https://colab.research.google.com/github/shiningharbor/12_01_2021/blob/main/12_01_2021.ipynb\" target=\"_parent\"><img src=\"https://colab.research.google.com/assets/colab-badge.svg\" alt=\"Open In Colab\"/></a>"
      ]
    },
    {
      "cell_type": "markdown",
      "metadata": {
        "id": "vJ336KB4pmCu"
      },
      "source": [
        "# Introduccion a Python\r\n",
        "- Creado en los 90's por Guido Van R.\r\n",
        "- En el 2000 Python mejora y tiene nuevas caracteristicas.\r\n",
        "- En el 2020 deja de ser la vercion oficial python 2.7 y solo se le dara soporte a Python 3 en adelante\r\n",
        "\r\n",
        "## Caracteristicas de Python\r\n",
        "1. Lenguaje de proposito general.\r\n",
        "2. Es un lenguaje interpretado y no compilado.\r\n",
        "3. Tipos de datos Dinamicos (nuemerico, de cadena, bool, entre otros).\r\n",
        "4. Es multiplataforma.\r\n",
        "5. Lenguaje Multi-Paradigma. (soporta programacion Imperativa,POO y funcional)\r\n",
        "6. El codigo es estructurado por indentación.\r\n",
        "\r\n",
        "```\r\n",
        "````\r\n",
        "## Principios Zen Python\r\n",
        "Son las Caracteristicas que guian el lenguaje de programacion de Python\r\n"
      ]
    },
    {
      "cell_type": "code",
      "metadata": {
        "id": "inEbr8xIu1Fs"
      },
      "source": [
        "#Primer Programa en Python 3\r\n",
        "nombre = \"Jose\"\r\n",
        "edad = 18\r\n",
        "print(\"Hola\", nombre, edad)"
      ],
      "execution_count": null,
      "outputs": []
    },
    {
      "cell_type": "markdown",
      "metadata": {
        "id": "aSsiHY-tvvnh"
      },
      "source": [
        "# La funcion print()\r\n",
        "Es una de las funciones mas empleadas en programacion y busca enviar datos a la salida estandar (monitor)\r\n",
        "\r\n",
        "### Formas de uso\r\n",
        "1. Con comas\r\n",
        "1. con signos +\r\n",
        "1. .format()\r\n",
        "1. el operador f\" \"\r\n",
        "\r\n",
        "#### Con comas\r\n",
        "Concatena los argumentos enviados a print y les agrega un espacio.\r\n",
        "\r\n",
        "#### Con signos +\r\n",
        "Concayena los valores sin espacio y sin hacer conversión de tipos.\r\n",
        "\r\n",
        "#### Con format()\r\n",
        "Permite darle formato a la salida de la impresión de variablees. Emplea la función format de el tipo de String\r\n",
        "\r\n",
        "#### Con operador f\" \"\r\n",
        "Es una variable de la forma anterior pero enmascarando la función format()\r\n"
      ]
    },
    {
      "cell_type": "code",
      "metadata": {
        "colab": {
          "base_uri": "https://localhost:8080/"
        },
        "id": "Lv0OELWdx55O",
        "outputId": "ce5c392c-623d-46f9-c15d-458c8e423bc7"
      },
      "source": [
        "nombre = \"Jose\"\r\n",
        "edad = 18\r\n",
        "print(\"Hola\", nombre, edad)\r\n",
        "print(\"Hola \" + nombre + \" \" + str(edad))\r\n",
        "\r\n",
        "#\r\n",
        "print(\"Nombre:\", nombre, \"con una edad de:\", edad, \"años.\")\r\n",
        "print(\"Nombre: \" + nombre + \" con una edad de: \" + str(edad) + \" años.\")\r\n",
        "#con format()\r\n",
        "print(\"Nombre: {0} con una edad de: {1} años.\" .format(nombre, edad))\r\n",
        "# Con el operador f \" \"\r\n",
        "print(f\"Nombre: {nombre} con una edad de: {edad} años.\")"
      ],
      "execution_count": null,
      "outputs": [
        {
          "output_type": "stream",
          "text": [
            "Hola Jose 18\n",
            "Hola Jose 18\n",
            "Nombre: Jose con una edad de: 18 años.\n",
            "Nombre: Jose con una edad de: 18 años.\n",
            "Nombre: Jose con una edad de: 18 años.\n",
            "Nombre: Jose con una edad de: 18 años.\n"
          ],
          "name": "stdout"
        }
      ]
    },
    {
      "cell_type": "markdown",
      "metadata": {
        "id": "Ldoborm72Mt-"
      },
      "source": [
        "# Funcion print() y los caracteres de escape.\r\n",
        "- \\n Salto de línea.\r\n",
        "- \\t tabulador\r\n",
        "- \\\\ imprimir la diagonal \\\r\n",
        "- \\ ' y \"\r\n",
        "- \\uxxxx\r\n",
        "- \\uxxxxxxxx\r\n"
      ]
    },
    {
      "cell_type": "code",
      "metadata": {
        "colab": {
          "base_uri": "https://localhost:8080/"
        },
        "id": "A3GGAuKl2Xc3",
        "outputId": "cef00b9c-5deb-4189-dce4-ed2eece5ceba"
      },
      "source": [
        "print('\"')\r\n",
        "print(\"\\\" \\\"\")\r\n",
        "print(\"Nombre: Jose\\n\\tcon una edad de: 18 años.\")\r\n",
        "\r\n",
        "#caracteres unicode\r\n",
        "print(\"Hola \\u2764\")"
      ],
      "execution_count": null,
      "outputs": [
        {
          "output_type": "stream",
          "text": [
            "\"\n",
            "\" \"\n",
            "Nombre: Jose\n",
            "\tcon una edad de: 18 años.\n",
            "Hola ❤\n"
          ],
          "name": "stdout"
        }
      ]
    },
    {
      "cell_type": "markdown",
      "metadata": {
        "id": "hBAOM1HC9K59"
      },
      "source": [
        "# Print y salto de Linea en argumento \\n\r\n",
        "print([lista de variables], end=\"\\n\")\r\n"
      ]
    },
    {
      "cell_type": "code",
      "metadata": {
        "colab": {
          "base_uri": "https://localhost:8080/"
        },
        "id": "HGtzwvUL9jIm",
        "outputId": "3b401256-b440-463f-f7e1-ea2e7dbe20bc"
      },
      "source": [
        "print(\"Hola \", end=\"\\u13cd\")\r\n",
        "print(\"Mundo \", end=\"++++\")\r\n",
        "print(\"Fin\", end=\"\\n\")"
      ],
      "execution_count": null,
      "outputs": [
        {
          "output_type": "stream",
          "text": [
            "Hola ᏍMundo ++++Fin\n"
          ],
          "name": "stdout"
        }
      ]
    },
    {
      "cell_type": "markdown",
      "metadata": {
        "id": "Vm6-F1kE99vh"
      },
      "source": [
        "# Comentario en Python.\r\n",
        "Un comentario en programación, es un texto especial que es ignorado por el interprete o compilador (Segun dea el caso) y es empleado para que el programador documente sus algoritmos.\r\n",
        "\r\n",
        "Existen Dos tipos de comentario:\r\n",
        "- línea simple epmlea \r\n",
        "``` \r\n",
        "#Comentario línea simple\r\n",
        "````\r\n",
        "- Linea multiple\r\n",
        "```\r\n",
        "\"\"\"\r\n",
        "Linea\r\n",
        "Multiple\r\n",
        "\"\"\"\r\n",
        "```"
      ]
    }
  ]
}